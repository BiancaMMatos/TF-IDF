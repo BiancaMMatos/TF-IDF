{
 "cells": [
  {
   "cell_type": "markdown",
   "id": "1d1dfae6",
   "metadata": {},
   "source": [
    "# Aplicação de Bag-Of-Words para Classificação de Notícias ESG Relativas a Empresas"
   ]
  },
  {
   "cell_type": "markdown",
   "id": "ff0920f3",
   "metadata": {},
   "source": [
    "## Etapa 1: Extração das palavras ESG"
   ]
  },
  {
   "cell_type": "code",
   "execution_count": null,
   "id": "d7c83cbd",
   "metadata": {},
   "outputs": [],
   "source": [
    "from urllib.request import urlopen, Request\n",
    "from bs4 import BeautifulSoup\n",
    "\n",
    "\n",
    "## Getting the Tickers \n",
    "finviz_url = \"https://finviz.com/quote.ashx?t=\"\n",
    "\n",
    "tickers = ['AMZN', 'META', 'PBR', 'AAPL', 'MSFT', 'TSLA', 'JNJ', 'MCD', 'NKE', 'ADBE', 'EOG', 'ENER', 'UBER', 'BP',\n",
    "         'AZN', 'RIOT', 'KO', 'WMT', 'VALE', 'SAFT', 'CBAT', 'XBIO', 'BHP', 'CSIQ', 'EKAR', 'EFX', 'AE', 'LNT', 'ADSE',\n",
    "          'AEIS', 'ENFR', 'ACES', 'AMPY', 'LFG', 'ATO', 'BANC', 'AUB', 'BAC', 'BBD', 'JPM', 'WE', 'HACK', 'CYBR', \n",
    "         'CMPO', 'CISO', 'RTM', 'NET', 'ZS', 'CRWD', 'TENB', 'VRNS', 'EVBG', 'RPD', 'QLYS', 'FTNT', 'ALRM',\n",
    "          'KTOS', 'INVE', 'VRNT', 'AGRI', 'TM', 'PFIE', 'PFE', 'SUZ', 'IBM', 'ELAN', 'CGTX', 'EDUC', 'ATGE',\n",
    "    'LVLU', 'COUR', 'COE', 'EDU', 'UDMY', 'TWOU', 'UTI', 'ARCE', 'BTI', 'ATVI', 'BZFD', 'EA', 'UAL', 'SAVE', 'CPRX',\n",
    "    'PXS', 'PDS', 'VECT', 'RENN', 'MTR', 'MTRY', 'TGS', 'STRS', 'SMCI', 'EDAP', 'TMDX', 'IMCR', 'NRT', 'EQT', 'HES', 'BKR',\n",
    "    'GRIN', 'SBS', 'SBSI', 'CLMT', 'AMLX', 'ELF', 'SELF', 'IDRV', 'LFUS', 'COP', 'OXY', 'IINN', 'CLFD', 'VAL', 'CWCO', 'VTRU', \n",
    "    'MCK', 'DGII', 'XOM','SLB', 'MUSA', 'PTEN', 'NC', 'NCMI', 'EXTR', 'EXR', 'DK', 'DKL', 'DHT', 'KNSL', 'ARL', 'BSM', 'LPLA', \n",
    "    'CAH', 'PBFX', 'RES', 'RCMT', 'MGI', 'ARLO', 'BSMX', 'CLGN', 'ONEM', 'ACHC', 'AHPI', 'AHG', 'AGL', 'AHCO', 'MDRX',\n",
    "    'EEIQ', 'COE', 'BEDU', 'BNED', 'YQ', 'STC', 'PSCT', 'FIS', 'IFBD', 'III', 'FIS', 'FTEC', 'AZ', 'ADN', 'AERC', 'QFIN',\n",
    "    'ADEX', 'AEY', 'BLOK', 'CD', 'DAIO', 'DTST', 'DDOG', 'DTSS', 'VPN', 'INOD', 'AIU', 'PAY', 'PAYA', 'PAYC', 'PAYO',\n",
    "    'PAYS', 'PAYX', 'APCX', 'IPAY', 'PFFL', 'SMHB', 'IH', 'HGEN', 'HMCOU', 'HUM', 'AHI', 'FLO', 'HRL', 'PBJ', 'WILC',\n",
    "    'BRID', 'BSFC', 'BGS', 'CALM', 'BRFH', 'HFFG', 'BCAT', 'BFZ', 'AHT', 'ABR', 'COLD', 'AAT', 'PINE', 'MITT',\n",
    "    'SOBR', 'SAFT', 'SFE', 'SFET', 'SB', 'PSFE', 'AMSF', 'SAFE', 'PFLD', 'AWF',\n",
    "    'RY', 'AAAU', 'AAC', 'AACI', 'AADR', 'ABCB', 'ACNB', 'AFBI', 'ALRS', 'AMAL', 'BBAR', \n",
    "    'BCBP', 'BCH', 'BCML', 'PUK', 'PRU', 'HPE', 'AGR', 'GOLD', \n",
    "          'MGF', 'WIP', 'VWOB', 'BHV', 'BBN'\n",
    "]\n",
    "\n",
    "## Making it become a dictionary of tables\n",
    "news_tables = {} \n",
    "for ticker in tickers:\n",
    "    url = finviz_url + ticker\n",
    "\n",
    "    request = Request(url=url, headers={'user-agent': 'poc-3'}) \n",
    "    response = urlopen(request)\n",
    "\n",
    "    html = BeautifulSoup(response, features='html.parser')\n",
    "\n",
    "    news_table = html.find(id='news-table') \n",
    "    news_tables[ticker] = news_table \n",
    "    \n",
    "    \n",
    "## Parsing the data\n",
    "parsed_data = []\n",
    "for ticker, news_table in news_tables.items():\n",
    "    for row in news_table.findAll('tr'):\n",
    "        title = row.a.text\n",
    "        date_data = row.td.text.split(' ')\n",
    "        \n",
    "        if len(date_data) == 1:\n",
    "            time = date_data[0]\n",
    "        else:\n",
    "            date = date_data[0]\n",
    "            time = date_data[1]\n",
    "\n",
    "        parsed_data.append([ticker, date, time, title])"
   ]
  },
  {
   "cell_type": "markdown",
   "id": "5e0f6b35",
   "metadata": {},
   "source": [
    "## Etapa 2: Filtragem das palavras ESG + Aplicação Manual de Classificações"
   ]
  },
  {
   "cell_type": "code",
   "execution_count": 2,
   "id": "356c8c33",
   "metadata": {},
   "outputs": [
    {
     "name": "stdout",
     "output_type": "stream",
     "text": [
      "Número total de títulos:  20540\n",
      "Número total de títulos com práticas ESG:  2738\n",
      "\n",
      "Valores únicos do DataFrame:  ['GOVERNANCE' 'SOCIAL' 'ENVIRONMENTAL']\n"
     ]
    },
    {
     "data": {
      "text/html": [
       "<div>\n",
       "<style scoped>\n",
       "    .dataframe tbody tr th:only-of-type {\n",
       "        vertical-align: middle;\n",
       "    }\n",
       "\n",
       "    .dataframe tbody tr th {\n",
       "        vertical-align: top;\n",
       "    }\n",
       "\n",
       "    .dataframe thead th {\n",
       "        text-align: right;\n",
       "    }\n",
       "</style>\n",
       "<table border=\"1\" class=\"dataframe\">\n",
       "  <thead>\n",
       "    <tr style=\"text-align: right;\">\n",
       "      <th></th>\n",
       "      <th>title</th>\n",
       "      <th>classification</th>\n",
       "    </tr>\n",
       "  </thead>\n",
       "  <tbody>\n",
       "    <tr>\n",
       "      <th>0</th>\n",
       "      <td>amazon's stock bounces sharply off 2 1/2-year ...</td>\n",
       "      <td>GOVERNANCE</td>\n",
       "    </tr>\n",
       "    <tr>\n",
       "      <th>1</th>\n",
       "      <td>amazon stock today: how a bearish option trade...</td>\n",
       "      <td>GOVERNANCE</td>\n",
       "    </tr>\n",
       "    <tr>\n",
       "      <th>2</th>\n",
       "      <td>eu tax ruling on fiat-chrysler is rejected by ...</td>\n",
       "      <td>GOVERNANCE</td>\n",
       "    </tr>\n",
       "    <tr>\n",
       "      <th>3</th>\n",
       "      <td>wakemed, duke health argue no harm done in fac...</td>\n",
       "      <td>SOCIAL</td>\n",
       "    </tr>\n",
       "    <tr>\n",
       "      <th>4</th>\n",
       "      <td>former petrobras executive asks brazil court t...</td>\n",
       "      <td>GOVERNANCE</td>\n",
       "    </tr>\n",
       "  </tbody>\n",
       "</table>\n",
       "</div>"
      ],
      "text/plain": [
       "                                               title classification\n",
       "0  amazon's stock bounces sharply off 2 1/2-year ...     GOVERNANCE\n",
       "1  amazon stock today: how a bearish option trade...     GOVERNANCE\n",
       "2  eu tax ruling on fiat-chrysler is rejected by ...     GOVERNANCE\n",
       "3  wakemed, duke health argue no harm done in fac...         SOCIAL\n",
       "4  former petrobras executive asks brazil court t...     GOVERNANCE"
      ]
     },
     "execution_count": 2,
     "metadata": {},
     "output_type": "execute_result"
    }
   ],
   "source": [
    "## Making the DataFrame\n",
    "import pandas as pd\n",
    "\n",
    "all_words_df = pd.DataFrame(parsed_data, columns=['ticker', 'date', 'time', 'title'])\n",
    "all_words_df = all_words_df.drop(all_words_df.columns[[0, 1, 2]], axis=1)\n",
    "\n",
    "e_words = [\n",
    "    'resource use', 'ecotoxicity', 'recycling', 'ocean plastic', 'circular economy', 'food waste', 'extraction desertification',\n",
    "    'rare earths', 'pollution', 'topsoil loss', 'soil', 'waste', 'soil acidification', 'crop yields', 'water scarcity',\n",
    "    'air quality', 'regenerative agriculture', 'air quality', 'drinkable water', 'clean energy', 'water', 'energy', 'net zero',\n",
    "    'pesticides', 'climate change', 'conservation', 'carbon emissions', 'mass extinction', 'fertilizers', 'anti microbial resistance',\n",
    "    'bee fertility', 'climate adaptation', 'ecosystem collapse', 'deforestation', 'biodiversity', 'sea level rises', 'ocean acidification',\n",
    "    'over fishing', 'animal welfare'\n",
    "]\n",
    "s_words = [\n",
    "    'racial justice', 'gender equality', 'disability', 'LGBT+ inclusion', 'financial inclusion', 'diversity', 'working considitions',\n",
    "    'vulnerable communities', 'worker safety', 'refugees', 'inequality', 'conflict minerals', 'human trafficking', 'forced labor',\n",
    "    'access', 'in work poverty', 'digital inclusion', 'living wage', 'migration', 'child labor', 'human rights', 'skills',\n",
    "    'education', 'just transition', 'healthcare', 'drug pricing', 'AI', 'automation', 'future of work', 'health', 'mental health',\n",
    "    'pandemics', 'floods', 'burnout', 'workplace health', 'sugar', 'nutrition', 'labor relations', 'substance misuse',\n",
    "    'hunger', 'food', 'food safety', 'disinformation', 'fake news', 'addiction', 'alcohol abuse', 'gambling', 'freedom of assembly',\n",
    "    'access to justice'\n",
    "]\n",
    "g_words = [\n",
    "    'money laundering', 'homophobia', 'corruption', 'workplace conduct', 'conduct', 'transparency', 'racism', 'financial crime',\n",
    "    'sexism', 'inappropriate behavior', 'bullying', 'anti trust', 'mis selling', 'discrimination', 'harassment', 'transphobia', \n",
    "    'oversight', 'rate fixing', 'fraud', 'bribery', 'board', 'composition', 'capacity', 'competency', 'data misuse',\n",
    "    'criminal misconduct', 'data', 'privacy', 'tax', 'corporate tax', 'tax avoidance', 'CEO', 'CEO pay', 'payment',\n",
    "    'privacy', 'data stewardship', 'share buybacks', 'remuneration', 'bonuses', 'dividends', 'money', 'stakeholder', 'shareholder'\n",
    "]\n",
    "\n",
    "## creating the words that need to be taken \n",
    "esg_words = e_words + s_words + g_words\n",
    "\n",
    "## making the DataFrame become a list\n",
    "all_words_list = list(all_words_df['title']) \n",
    "\n",
    "\n",
    "## making a function that verify the words that comes in, to make sure it is an ESG word\n",
    "def verify_words(text: str): \n",
    "    return text in esg_words\n",
    "\n",
    "def verify_column(word: str):\n",
    "    if word in e_words:\n",
    "        return \"ENVIRONMENTAL\"\n",
    "    elif word in s_words:\n",
    "        return \"SOCIAL\"\n",
    "    elif word in g_words:\n",
    "        return \"GOVERNANCE\"\n",
    "    else:\n",
    "        return \"NO ESG\"\n",
    "\n",
    "## filtering the titles according to ESG words\n",
    "texts_esg: list = []\n",
    "esg_classification: list = []\n",
    "    \n",
    "for title in all_words_list:\n",
    "    text_split = title.split() # creating a list with each word on the phrase\n",
    "    \n",
    "    for word in text_split: # acessing each word on the phrase\n",
    "        if verify_words(word.lower()): # verifying\n",
    "            esg_classification.append(verify_column(word.lower()))\n",
    "            texts_esg.append(title)\n",
    "            break\n",
    "\n",
    "print(\"Número total de títulos: \", len(all_words_list))\n",
    "print(\"Número total de títulos com práticas ESG: \", len(texts_esg))\n",
    "            \n",
    "## Making a new DataFrame with the ESG words only\n",
    "esg_words_df = pd.DataFrame(texts_esg, columns=['title'])\n",
    "esg_words_df['classification'] = esg_classification\n",
    "esg_words_df['title'] = esg_words_df['title'].str.lower()\n",
    "print()\n",
    "print(\"Valores únicos do DataFrame: \", esg_words_df['classification'].unique())\n",
    "esg_words_df.head()"
   ]
  },
  {
   "cell_type": "code",
   "execution_count": 3,
   "id": "39971eae",
   "metadata": {},
   "outputs": [
    {
     "data": {
      "text/plain": [
       "SOCIAL           973\n",
       "ENVIRONMENTAL    894\n",
       "GOVERNANCE       871\n",
       "Name: classification, dtype: int64"
      ]
     },
     "execution_count": 3,
     "metadata": {},
     "output_type": "execute_result"
    },
    {
     "data": {
      "image/png": "[encoded data removed]",
      "text/plain": [
       "<Figure size 432x288 with 1 Axes>"
      ]
     },
     "metadata": {
      "needs_background": "light"
     },
     "output_type": "display_data"
    }
   ],
   "source": [
    "import seaborn as sns\n",
    "\n",
    "## Visualizing the distribution of the abbreviations\n",
    "sns.countplot(x = 'classification', data = esg_words_df)\n",
    "\n",
    "## Visualizing the counting of the abbreviations\n",
    "esg_words_df['classification'].value_counts()"
   ]
  },
  {
   "cell_type": "markdown",
   "id": "3b20b608",
   "metadata": {},
   "source": [
    "## Etapa 3: Pré-Processamento dos textos"
   ]
  },
  {
   "cell_type": "code",
   "execution_count": 4,
   "id": "de9d322f",
   "metadata": {},
   "outputs": [
    {
     "data": {
      "text/html": [
       "<div>\n",
       "<style scoped>\n",
       "    .dataframe tbody tr th:only-of-type {\n",
       "        vertical-align: middle;\n",
       "    }\n",
       "\n",
       "    .dataframe tbody tr th {\n",
       "        vertical-align: top;\n",
       "    }\n",
       "\n",
       "    .dataframe thead th {\n",
       "        text-align: right;\n",
       "    }\n",
       "</style>\n",
       "<table border=\"1\" class=\"dataframe\">\n",
       "  <thead>\n",
       "    <tr style=\"text-align: right;\">\n",
       "      <th></th>\n",
       "      <th>title</th>\n",
       "      <th>classification</th>\n",
       "      <th>title_cleaned</th>\n",
       "    </tr>\n",
       "  </thead>\n",
       "  <tbody>\n",
       "    <tr>\n",
       "      <th>0</th>\n",
       "      <td>amazon's stock bounces sharply off 2 1/2-year ...</td>\n",
       "      <td>GOVERNANCE</td>\n",
       "      <td>amazon stock bounce sharply 2 12year low upbea...</td>\n",
       "    </tr>\n",
       "    <tr>\n",
       "      <th>1</th>\n",
       "      <td>amazon stock today: how a bearish option trade...</td>\n",
       "      <td>GOVERNANCE</td>\n",
       "      <td>amazon stock today bearish option trade make m...</td>\n",
       "    </tr>\n",
       "    <tr>\n",
       "      <th>2</th>\n",
       "      <td>eu tax ruling on fiat-chrysler is rejected by ...</td>\n",
       "      <td>GOVERNANCE</td>\n",
       "      <td>eu tax ruling fiatchrysler rejected court</td>\n",
       "    </tr>\n",
       "    <tr>\n",
       "      <th>3</th>\n",
       "      <td>wakemed, duke health argue no harm done in fac...</td>\n",
       "      <td>SOCIAL</td>\n",
       "      <td>wakemed duke health argue harm done facebookpa...</td>\n",
       "    </tr>\n",
       "    <tr>\n",
       "      <th>4</th>\n",
       "      <td>former petrobras executive asks brazil court t...</td>\n",
       "      <td>GOVERNANCE</td>\n",
       "      <td>former petrobras executive asks brazil court b...</td>\n",
       "    </tr>\n",
       "  </tbody>\n",
       "</table>\n",
       "</div>"
      ],
      "text/plain": [
       "                                               title classification  \\\n",
       "0  amazon's stock bounces sharply off 2 1/2-year ...     GOVERNANCE   \n",
       "1  amazon stock today: how a bearish option trade...     GOVERNANCE   \n",
       "2  eu tax ruling on fiat-chrysler is rejected by ...     GOVERNANCE   \n",
       "3  wakemed, duke health argue no harm done in fac...         SOCIAL   \n",
       "4  former petrobras executive asks brazil court t...     GOVERNANCE   \n",
       "\n",
       "                                       title_cleaned  \n",
       "0  amazon stock bounce sharply 2 12year low upbea...  \n",
       "1  amazon stock today bearish option trade make m...  \n",
       "2          eu tax ruling fiatchrysler rejected court  \n",
       "3  wakemed duke health argue harm done facebookpa...  \n",
       "4  former petrobras executive asks brazil court b...  "
      ]
     },
     "execution_count": 4,
     "metadata": {},
     "output_type": "execute_result"
    }
   ],
   "source": [
    "import re\n",
    "import nltk\n",
    "\n",
    "lst_stopwords = nltk.corpus.stopwords.words(\"english\")\n",
    "\n",
    "## Preprocessing the titles\n",
    "def preprocess_text(text, flg_stemm=False, flg_lemm=True, lst_stopwords=None):\n",
    "    ## -- CLEANING -- 0 (convert to lowercase and remove punctuations and characters and then strip)\n",
    "    text = re.sub(r'[^\\w\\s]', '', str(text).lower().strip())\n",
    "            \n",
    "    ## -- TOKENIZE -- 01 (convert from string to list)\n",
    "    lst_text = text.split()\n",
    "    ## remove Stopwords\n",
    "    if lst_stopwords is not None:\n",
    "        lst_text = [word for word in lst_text if word not in lst_stopwords]\n",
    "                \n",
    "    ## -- STEMMING -- 02 (remove -ing, -ly, ...)\n",
    "    if flg_stemm == True:\n",
    "        ps = nltk.stem.porter.PorterStemmer()\n",
    "        lst_text = [ps.stem(word) for word in lst_text]\n",
    "                \n",
    "    ## -- LEMMATIZATION -- 03 (convert the word into root word)\n",
    "    if flg_lemm == True:\n",
    "        lem = nltk.stem.wordnet.WordNetLemmatizer()\n",
    "        lst_text = [lem.lemmatize(word) for word in lst_text]\n",
    "            \n",
    "    ## -- CONVERTING BACK TO STRING FROM LIST -- 04\n",
    "    text = \" \".join(lst_text)\n",
    "    return text\n",
    "\n",
    "## -- FINAL RESULT --\n",
    "esg_words_df[\"title_cleaned\"] = esg_words_df[\"title\"].apply(lambda x: \n",
    "          preprocess_text(x, flg_stemm=False, flg_lemm=True, \n",
    "          lst_stopwords=lst_stopwords))\n",
    "esg_words_df.head()"
   ]
  },
  {
   "cell_type": "markdown",
   "id": "23fcf1a7",
   "metadata": {},
   "source": [
    "## Etapa 4: Aplicação do Algoritmo TF-IDF"
   ]
  },
  {
   "cell_type": "code",
   "execution_count": 5,
   "id": "13a3b77e",
   "metadata": {},
   "outputs": [
    {
     "name": "stdout",
     "output_type": "stream",
     "text": [
      "Número de textos de treino:  1916\n",
      "Número de textos de teste:  822\n"
     ]
    }
   ],
   "source": [
    "import numpy as np\n",
    "from sklearn import feature_extraction, model_selection, naive_bayes, pipeline, manifold, preprocessing\n",
    "\n",
    "## changing the name of the column\n",
    "esg_words_df.rename(columns = {'classification':'y'}, inplace = True)\n",
    "\n",
    "\n",
    "## split dataset\n",
    "dtf_train, dtf_test = model_selection.train_test_split(esg_words_df, test_size=0.3)\n",
    "\n",
    "## get target\n",
    "y_train = dtf_train[\"y\"].values\n",
    "y_test = dtf_test[\"y\"].values\n",
    "\n",
    "print(\"Número de textos de treino: \", len(y_train))\n",
    "print(\"Número de textos de teste: \", len(y_test))"
   ]
  },
  {
   "cell_type": "code",
   "execution_count": 6,
   "id": "54f5260e",
   "metadata": {},
   "outputs": [
    {
     "name": "stdout",
     "output_type": "stream",
     "text": [
      "# ENVIRONMENTAL:\n",
      "  . selected features: 158\n",
      "  . top features: energy,water,energy stock,cbak energy,consolidated,consolidated water,advanced energy,cbak,energy announces,advanced\n",
      " \n",
      "# GOVERNANCE:\n",
      "  . selected features: 186\n",
      "  . top features: data,board,shareholder,director,board director,data io,io,energy,shareholder alert,alert\n",
      " \n",
      "# SOCIAL:\n",
      "  . selected features: 180\n",
      "  . top features: education,healthcare,health,energy,education group,noble,barnes,barnes noble,online education,noble education\n",
      " \n"
     ]
    },
    {
     "name": "stderr",
     "output_type": "stream",
     "text": [
      "/Users/bianca/anaconda3/lib/python3.9/site-packages/sklearn/utils/deprecation.py:87: FutureWarning: Function get_feature_names is deprecated; get_feature_names is deprecated in 1.0 and will be removed in 1.2. Please use get_feature_names_out instead.\n",
      "  warnings.warn(msg, category=FutureWarning)\n"
     ]
    }
   ],
   "source": [
    "## Applying the algorithm\n",
    "from sklearn import feature_extraction, feature_selection, model_selection, naive_bayes, pipeline, manifold\n",
    "from sklearn.feature_extraction.text import CountVectorizer, TfidfVectorizer\n",
    "\n",
    "\n",
    "## Feature Engineering, the process to create features by extracting information from the data\n",
    "vectorizer = feature_extraction.text.TfidfVectorizer(max_features= 1500, ngram_range=(1,2))\n",
    "\n",
    "## getting the corpus\n",
    "corpus = dtf_train['title_cleaned']\n",
    "\n",
    "vectorizer.fit(corpus)\n",
    "\n",
    "## I will use the vectorizer on the preprocessed corpus of the train set to extract a vocabulary and create \n",
    "## the feature matrix.\n",
    "X_train = vectorizer.transform(corpus)\n",
    "\n",
    "## keeping only the features with a certain p-value from the Chi-Square test.\n",
    "y = dtf_train[\"y\"]\n",
    "X_names = vectorizer.get_feature_names()\n",
    "p_value_limit = 0.95\n",
    "dtf_features = pd.DataFrame()\n",
    "for f in np.unique(y):\n",
    "    chi2, p = feature_selection.chi2(X_train, y==f)\n",
    "    dtf_features = dtf_features.append(pd.DataFrame(\n",
    "                   {\"feature\":X_names, \"score\":1-p, \"y\":f}))\n",
    "    dtf_features = dtf_features.sort_values([\"y\",\"score\"], \n",
    "                    ascending=[True,False])\n",
    "    dtf_features = dtf_features[dtf_features[\"score\"]>p_value_limit]\n",
    "X_names = dtf_features[\"feature\"].unique().tolist()\n",
    "\n",
    "## I reduced the number of features by keeping the most statistically relevant ones. \n",
    "## Let’s print some:\n",
    "for f in np.unique(y):\n",
    "   print(\"# {}:\".format(f))\n",
    "   print(\"  . selected features:\",\n",
    "         len(dtf_features[dtf_features[\"y\"]==f]))\n",
    "   print(\"  . top features:\", \",\".join(\n",
    "dtf_features[dtf_features[\"y\"]==f][\"feature\"].values[:10]))\n",
    "   print(\" \")"
   ]
  },
  {
   "cell_type": "code",
   "execution_count": 7,
   "id": "a8071fc2",
   "metadata": {},
   "outputs": [],
   "source": [
    "## Refit the vectorizer on the corpus by giving this new set of words as input. That will produce a smaller \n",
    "## feature matrix and a shorter vocabulary.\n",
    "\n",
    "vectorizer = feature_extraction.text.TfidfVectorizer(vocabulary=X_names)\n",
    "vectorizer.fit(corpus)\n",
    "X_train = vectorizer.transform(corpus)\n",
    "dic_vocabulary = vectorizer.vocabulary_"
   ]
  },
  {
   "cell_type": "code",
   "execution_count": 8,
   "id": "9c44590d",
   "metadata": {},
   "outputs": [
    {
     "data": {
      "text/plain": [
       "MultinomialNB()"
      ]
     },
     "execution_count": 8,
     "metadata": {},
     "output_type": "execute_result"
    }
   ],
   "source": [
    "# using the Naive Bayes algorithm\n",
    "classifier = naive_bayes.MultinomialNB()\n",
    "\n",
    "# pipeline\n",
    "model = pipeline.Pipeline([(\"vectorizer\", vectorizer),  \n",
    "                           (\"classifier\", classifier)])\n",
    "# train classifier\n",
    "model[\"classifier\"].fit(X_train, y_train)"
   ]
  },
  {
   "cell_type": "markdown",
   "id": "1630cd72",
   "metadata": {},
   "source": [
    "## Etapa 5: Aplicando métricas sobre o modelo TF-IDF"
   ]
  },
  {
   "cell_type": "code",
   "execution_count": 9,
   "id": "f68b135a",
   "metadata": {},
   "outputs": [],
   "source": [
    "## test\n",
    "X_test = dtf_test[\"title_cleaned\"].values\n",
    "predicted = model.predict(X_test)\n",
    "predicted_prob = model.predict_proba(X_test)"
   ]
  },
  {
   "cell_type": "code",
   "execution_count": 10,
   "id": "6022f94e",
   "metadata": {},
   "outputs": [
    {
     "name": "stdout",
     "output_type": "stream",
     "text": [
      "Accuracy: 0.97\n",
      "Detail:\n"
     ]
    },
    {
     "data": {
      "text/plain": [
       "(array([0.5, 1.5, 2.5]),\n",
       " [Text(0, 0.5, 'ENVIRONMENTAL'),\n",
       "  Text(0, 1.5, 'GOVERNANCE'),\n",
       "  Text(0, 2.5, 'SOCIAL')])"
      ]
     },
     "execution_count": 10,
     "metadata": {},
     "output_type": "execute_result"
    },
    {
     "data": {
      "image/png": "[encoded data removed]",
      "text/plain": [
       "<Figure size 432x288 with 1 Axes>"
      ]
     },
     "metadata": {
      "needs_background": "light"
     },
     "output_type": "display_data"
    }
   ],
   "source": [
    "## evaluating the performance of the Bag-of-Words model\n",
    "from sklearn import metrics\n",
    "import matplotlib.pyplot as plt\n",
    "import seaborn as sns\n",
    "    \n",
    "classes = np.unique(y_test)\n",
    "    \n",
    "## Accuracy\n",
    "accuracy = metrics.accuracy_score(y_test, predicted)\n",
    "\n",
    "print(\"Accuracy:\",  round(accuracy,2))\n",
    "\n",
    "## Plot confusion matrix\n",
    "print(\"Detail:\")    \n",
    "cm = metrics.confusion_matrix(y_test, predicted)\n",
    "fig, ax = plt.subplots()\n",
    "sns.heatmap(cm, annot=True, fmt='d', ax=ax, cmap=plt.cm.Blues, \n",
    "            cbar=False)\n",
    "ax.set(xlabel=\"Pred\", ylabel=\"True\", xticklabels=classes, \n",
    "       yticklabels=classes, title=\"Confusion matrix\")\n",
    "#plt.yticks(rotation=0)"
   ]
  },
  {
   "cell_type": "markdown",
   "id": "98decc30",
   "metadata": {},
   "source": [
    "## Etapa 6: Comparando o modelo TF-IDF com o método regular de classificação ESG em um novo DataFrame"
   ]
  },
  {
   "cell_type": "code",
   "execution_count": 55,
   "id": "c2769e69",
   "metadata": {},
   "outputs": [
    {
     "data": {
      "text/html": [
       "<div>\n",
       "<style scoped>\n",
       "    .dataframe tbody tr th:only-of-type {\n",
       "        vertical-align: middle;\n",
       "    }\n",
       "\n",
       "    .dataframe tbody tr th {\n",
       "        vertical-align: top;\n",
       "    }\n",
       "\n",
       "    .dataframe thead th {\n",
       "        text-align: right;\n",
       "    }\n",
       "</style>\n",
       "<table border=\"1\" class=\"dataframe\">\n",
       "  <thead>\n",
       "    <tr style=\"text-align: right;\">\n",
       "      <th></th>\n",
       "      <th>title</th>\n",
       "    </tr>\n",
       "  </thead>\n",
       "  <tbody>\n",
       "    <tr>\n",
       "      <th>0</th>\n",
       "      <td>Next-Generation Dell PowerEdge Servers Dramati...</td>\n",
       "    </tr>\n",
       "    <tr>\n",
       "      <th>1</th>\n",
       "      <td>Fair Isaac (FICO) Matches Q4 Earnings Estimates</td>\n",
       "    </tr>\n",
       "    <tr>\n",
       "      <th>2</th>\n",
       "      <td>Archer Daniels Midland and Estee Lauder have b...</td>\n",
       "    </tr>\n",
       "    <tr>\n",
       "      <th>3</th>\n",
       "      <td>Dell Technologies (DELL) Outpaces Stock Market...</td>\n",
       "    </tr>\n",
       "    <tr>\n",
       "      <th>4</th>\n",
       "      <td>Can the PC Market Bounce Back From Its Recent ...</td>\n",
       "    </tr>\n",
       "  </tbody>\n",
       "</table>\n",
       "</div>"
      ],
      "text/plain": [
       "                                               title\n",
       "0  Next-Generation Dell PowerEdge Servers Dramati...\n",
       "1    Fair Isaac (FICO) Matches Q4 Earnings Estimates\n",
       "2  Archer Daniels Midland and Estee Lauder have b...\n",
       "3  Dell Technologies (DELL) Outpaces Stock Market...\n",
       "4  Can the PC Market Bounce Back From Its Recent ..."
      ]
     },
     "execution_count": 55,
     "metadata": {},
     "output_type": "execute_result"
    }
   ],
   "source": [
    "## getting the dataframe \n",
    "df = pd.read_csv(\"df.csv\") \n",
    "df = df.drop(df.columns[[0]], axis=1)\n",
    "df = df.drop_duplicates()\n",
    "df.head()"
   ]
  },
  {
   "cell_type": "code",
   "execution_count": 56,
   "id": "0ffde6c2",
   "metadata": {},
   "outputs": [
    {
     "data": {
      "text/html": [
       "<div>\n",
       "<style scoped>\n",
       "    .dataframe tbody tr th:only-of-type {\n",
       "        vertical-align: middle;\n",
       "    }\n",
       "\n",
       "    .dataframe tbody tr th {\n",
       "        vertical-align: top;\n",
       "    }\n",
       "\n",
       "    .dataframe thead th {\n",
       "        text-align: right;\n",
       "    }\n",
       "</style>\n",
       "<table border=\"1\" class=\"dataframe\">\n",
       "  <thead>\n",
       "    <tr style=\"text-align: right;\">\n",
       "      <th></th>\n",
       "      <th>title</th>\n",
       "      <th>title_cleaned</th>\n",
       "    </tr>\n",
       "  </thead>\n",
       "  <tbody>\n",
       "    <tr>\n",
       "      <th>0</th>\n",
       "      <td>Next-Generation Dell PowerEdge Servers Dramati...</td>\n",
       "      <td>nextgeneration dell poweredge server dramatica...</td>\n",
       "    </tr>\n",
       "    <tr>\n",
       "      <th>1</th>\n",
       "      <td>Fair Isaac (FICO) Matches Q4 Earnings Estimates</td>\n",
       "      <td>fair isaac fico match q4 earnings estimate</td>\n",
       "    </tr>\n",
       "    <tr>\n",
       "      <th>2</th>\n",
       "      <td>Archer Daniels Midland and Estee Lauder have b...</td>\n",
       "      <td>archer daniel midland estee lauder highlighted...</td>\n",
       "    </tr>\n",
       "    <tr>\n",
       "      <th>3</th>\n",
       "      <td>Dell Technologies (DELL) Outpaces Stock Market...</td>\n",
       "      <td>dell technology dell outpaces stock market gai...</td>\n",
       "    </tr>\n",
       "    <tr>\n",
       "      <th>4</th>\n",
       "      <td>Can the PC Market Bounce Back From Its Recent ...</td>\n",
       "      <td>pc market bounce back recent low</td>\n",
       "    </tr>\n",
       "  </tbody>\n",
       "</table>\n",
       "</div>"
      ],
      "text/plain": [
       "                                               title  \\\n",
       "0  Next-Generation Dell PowerEdge Servers Dramati...   \n",
       "1    Fair Isaac (FICO) Matches Q4 Earnings Estimates   \n",
       "2  Archer Daniels Midland and Estee Lauder have b...   \n",
       "3  Dell Technologies (DELL) Outpaces Stock Market...   \n",
       "4  Can the PC Market Bounce Back From Its Recent ...   \n",
       "\n",
       "                                       title_cleaned  \n",
       "0  nextgeneration dell poweredge server dramatica...  \n",
       "1         fair isaac fico match q4 earnings estimate  \n",
       "2  archer daniel midland estee lauder highlighted...  \n",
       "3  dell technology dell outpaces stock market gai...  \n",
       "4                   pc market bounce back recent low  "
      ]
     },
     "execution_count": 56,
     "metadata": {},
     "output_type": "execute_result"
    }
   ],
   "source": [
    "## cleaning the text\n",
    "df[\"title_cleaned\"] = df[\"title\"].apply(lambda x: \n",
    "          preprocess_text(x, flg_stemm=False, flg_lemm=True, \n",
    "          lst_stopwords=lst_stopwords))\n",
    "df.head()"
   ]
  },
  {
   "cell_type": "code",
   "execution_count": 57,
   "id": "bc52e13c",
   "metadata": {},
   "outputs": [
    {
     "data": {
      "text/html": [
       "<div>\n",
       "<style scoped>\n",
       "    .dataframe tbody tr th:only-of-type {\n",
       "        vertical-align: middle;\n",
       "    }\n",
       "\n",
       "    .dataframe tbody tr th {\n",
       "        vertical-align: top;\n",
       "    }\n",
       "\n",
       "    .dataframe thead th {\n",
       "        text-align: right;\n",
       "    }\n",
       "</style>\n",
       "<table border=\"1\" class=\"dataframe\">\n",
       "  <thead>\n",
       "    <tr style=\"text-align: right;\">\n",
       "      <th></th>\n",
       "      <th>news title</th>\n",
       "    </tr>\n",
       "  </thead>\n",
       "  <tbody>\n",
       "    <tr>\n",
       "      <th>0</th>\n",
       "      <td>nextgeneration dell poweredge server dramatica...</td>\n",
       "    </tr>\n",
       "    <tr>\n",
       "      <th>1</th>\n",
       "      <td>fair isaac fico match q4 earnings estimate</td>\n",
       "    </tr>\n",
       "    <tr>\n",
       "      <th>2</th>\n",
       "      <td>archer daniel midland estee lauder highlighted...</td>\n",
       "    </tr>\n",
       "    <tr>\n",
       "      <th>3</th>\n",
       "      <td>dell technology dell outpaces stock market gai...</td>\n",
       "    </tr>\n",
       "    <tr>\n",
       "      <th>4</th>\n",
       "      <td>pc market bounce back recent low</td>\n",
       "    </tr>\n",
       "  </tbody>\n",
       "</table>\n",
       "</div>"
      ],
      "text/plain": [
       "                                          news title\n",
       "0  nextgeneration dell poweredge server dramatica...\n",
       "1         fair isaac fico match q4 earnings estimate\n",
       "2  archer daniel midland estee lauder highlighted...\n",
       "3  dell technology dell outpaces stock market gai...\n",
       "4                   pc market bounce back recent low"
      ]
     },
     "execution_count": 57,
     "metadata": {},
     "output_type": "execute_result"
    }
   ],
   "source": [
    "df = df.drop(df.columns[[0]], axis=1)\n",
    "df.rename(columns = {'title_cleaned':'news title'}, inplace = True)\n",
    "df.head()"
   ]
  },
  {
   "cell_type": "code",
   "execution_count": 58,
   "id": "51e3583d",
   "metadata": {},
   "outputs": [
    {
     "name": "stdout",
     "output_type": "stream",
     "text": [
      "Número total de títulos:  6950\n",
      "Número total de títulos com práticas ESG:  863\n"
     ]
    }
   ],
   "source": [
    "## comparing the classifications\n",
    "      \n",
    "## getting only the titles with ESG words\n",
    "# applying the regular way to classify the titles\n",
    "\n",
    "df_list = list(df['news title']) \n",
    "\n",
    "esg_classification: list = []\n",
    "texts_esg: list = []   \n",
    "    \n",
    "for title in df_list:\n",
    "    text_split = title.split() \n",
    "    \n",
    "    for word in text_split:\n",
    "        if verify_words(word): \n",
    "            esg_classification.append(verify_column(word))\n",
    "            texts_esg.append(title)\n",
    "            break\n",
    "    \n",
    "df = pd.DataFrame(texts_esg, columns=['news title'])\n",
    "\n",
    "print(\"Número total de títulos: \", len(df_list))\n",
    "print(\"Número total de títulos com práticas ESG: \", len(texts_esg))\n",
    "    \n",
    "## applying TF-IDF model    \n",
    "model_classification = model.predict(df['news title'])  \n",
    "\n",
    "## creating the new columns\n",
    "df['Regular Classification'] = esg_classification\n",
    "df['TF-IDF Classification'] = model_classification"
   ]
  },
  {
   "cell_type": "code",
   "execution_count": 59,
   "id": "9e77bde1",
   "metadata": {},
   "outputs": [
    {
     "data": {
      "text/plain": [
       "'11 best future food stock buy'"
      ]
     },
     "execution_count": 59,
     "metadata": {},
     "output_type": "execute_result"
    }
   ],
   "source": [
    "df.head()\n",
    "df['news title'][4]"
   ]
  },
  {
   "cell_type": "code",
   "execution_count": 60,
   "id": "80faaaa0",
   "metadata": {},
   "outputs": [
    {
     "name": "stdout",
     "output_type": "stream",
     "text": [
      "Regular classification\n"
     ]
    },
    {
     "data": {
      "text/plain": [
       "ENVIRONMENTAL    333\n",
       "SOCIAL           277\n",
       "GOVERNANCE       253\n",
       "Name: Regular Classification, dtype: int64"
      ]
     },
     "execution_count": 60,
     "metadata": {},
     "output_type": "execute_result"
    },
    {
     "data": {
      "image/png": "[encoded data removed]",
      "text/plain": [
       "<Figure size 432x288 with 1 Axes>"
      ]
     },
     "metadata": {
      "needs_background": "light"
     },
     "output_type": "display_data"
    }
   ],
   "source": [
    "print(\"Regular classification\")\n",
    "## Visualizing the distribution of the abbreviations\n",
    "sns.countplot(x = 'Regular Classification', data = df)\n",
    "## Visualizing the counting of the abbreviations\n",
    "df['Regular Classification'].value_counts()"
   ]
  },
  {
   "cell_type": "code",
   "execution_count": 61,
   "id": "12afb84d",
   "metadata": {},
   "outputs": [
    {
     "name": "stdout",
     "output_type": "stream",
     "text": [
      "TF-IDF\n"
     ]
    },
    {
     "data": {
      "text/plain": [
       "SOCIAL           305\n",
       "ENVIRONMENTAL    300\n",
       "GOVERNANCE       258\n",
       "Name: TF-IDF Classification, dtype: int64"
      ]
     },
     "execution_count": 61,
     "metadata": {},
     "output_type": "execute_result"
    },
    {
     "data": {
      "image/png": "[encoded data removed]",
      "text/plain": [
       "<Figure size 432x288 with 1 Axes>"
      ]
     },
     "metadata": {
      "needs_background": "light"
     },
     "output_type": "display_data"
    }
   ],
   "source": [
    "print(\"TF-IDF\")\n",
    "## Visualizing the distribution of the abbreviations\n",
    "sns.countplot(x = 'TF-IDF Classification', data = df)\n",
    "\n",
    "## Visualizing the counting of the abbreviations\n",
    "df['TF-IDF Classification'].value_counts()"
   ]
  },
  {
   "cell_type": "code",
   "execution_count": 64,
   "id": "1224e7d5",
   "metadata": {},
   "outputs": [
    {
     "data": {
      "text/html": [
       "<div>\n",
       "<style scoped>\n",
       "    .dataframe tbody tr th:only-of-type {\n",
       "        vertical-align: middle;\n",
       "    }\n",
       "\n",
       "    .dataframe tbody tr th {\n",
       "        vertical-align: top;\n",
       "    }\n",
       "\n",
       "    .dataframe thead th {\n",
       "        text-align: right;\n",
       "    }\n",
       "</style>\n",
       "<table border=\"1\" class=\"dataframe\">\n",
       "  <thead>\n",
       "    <tr style=\"text-align: right;\">\n",
       "      <th></th>\n",
       "      <th>news title</th>\n",
       "      <th>Regular Classification</th>\n",
       "      <th>TF-IDF Classification</th>\n",
       "    </tr>\n",
       "  </thead>\n",
       "  <tbody>\n",
       "    <tr>\n",
       "      <th>0</th>\n",
       "      <td>nextgeneration dell poweredge server dramatica...</td>\n",
       "      <td>GOVERNANCE</td>\n",
       "      <td>GOVERNANCE</td>\n",
       "    </tr>\n",
       "    <tr>\n",
       "      <th>1</th>\n",
       "      <td>data metadata management company alation draw ...</td>\n",
       "      <td>GOVERNANCE</td>\n",
       "      <td>GOVERNANCE</td>\n",
       "    </tr>\n",
       "    <tr>\n",
       "      <th>2</th>\n",
       "      <td>canon usa inc named 2022 energy star partner y...</td>\n",
       "      <td>ENVIRONMENTAL</td>\n",
       "      <td>ENVIRONMENTAL</td>\n",
       "    </tr>\n",
       "    <tr>\n",
       "      <th>3</th>\n",
       "      <td>percentage capitol health limited asxcaj share...</td>\n",
       "      <td>SOCIAL</td>\n",
       "      <td>SOCIAL</td>\n",
       "    </tr>\n",
       "    <tr>\n",
       "      <th>4</th>\n",
       "      <td>11 best future food stock buy</td>\n",
       "      <td>SOCIAL</td>\n",
       "      <td>SOCIAL</td>\n",
       "    </tr>\n",
       "    <tr>\n",
       "      <th>5</th>\n",
       "      <td>heil revamp electric refuse collection body im...</td>\n",
       "      <td>ENVIRONMENTAL</td>\n",
       "      <td>SOCIAL</td>\n",
       "    </tr>\n",
       "    <tr>\n",
       "      <th>6</th>\n",
       "      <td>advansor launch new co2 climate solution high ...</td>\n",
       "      <td>ENVIRONMENTAL</td>\n",
       "      <td>ENVIRONMENTAL</td>\n",
       "    </tr>\n",
       "    <tr>\n",
       "      <th>7</th>\n",
       "      <td>lyondellbasell shakti plastic industry sign me...</td>\n",
       "      <td>ENVIRONMENTAL</td>\n",
       "      <td>SOCIAL</td>\n",
       "    </tr>\n",
       "    <tr>\n",
       "      <th>8</th>\n",
       "      <td>lyondellbasell form joint venture build plasti...</td>\n",
       "      <td>ENVIRONMENTAL</td>\n",
       "      <td>SOCIAL</td>\n",
       "    </tr>\n",
       "    <tr>\n",
       "      <th>9</th>\n",
       "      <td>10 best fast money stock buy according hedge fund</td>\n",
       "      <td>GOVERNANCE</td>\n",
       "      <td>GOVERNANCE</td>\n",
       "    </tr>\n",
       "    <tr>\n",
       "      <th>10</th>\n",
       "      <td>earnings growth 25 5 year hasnt enough transla...</td>\n",
       "      <td>GOVERNANCE</td>\n",
       "      <td>GOVERNANCE</td>\n",
       "    </tr>\n",
       "    <tr>\n",
       "      <th>11</th>\n",
       "      <td>lyondellbasell see advanced recycling option f...</td>\n",
       "      <td>ENVIRONMENTAL</td>\n",
       "      <td>ENVIRONMENTAL</td>\n",
       "    </tr>\n",
       "    <tr>\n",
       "      <th>12</th>\n",
       "      <td>lyondellbasell achieves renewable energy miles...</td>\n",
       "      <td>ENVIRONMENTAL</td>\n",
       "      <td>ENVIRONMENTAL</td>\n",
       "    </tr>\n",
       "    <tr>\n",
       "      <th>13</th>\n",
       "      <td>lyondellbasell lyb ink first two renewable ene...</td>\n",
       "      <td>ENVIRONMENTAL</td>\n",
       "      <td>ENVIRONMENTAL</td>\n",
       "    </tr>\n",
       "    <tr>\n",
       "      <th>14</th>\n",
       "      <td>lyondellbasell announces renewable energy powe...</td>\n",
       "      <td>ENVIRONMENTAL</td>\n",
       "      <td>ENVIRONMENTAL</td>\n",
       "    </tr>\n",
       "    <tr>\n",
       "      <th>15</th>\n",
       "      <td>big money invests lyondellbasell</td>\n",
       "      <td>GOVERNANCE</td>\n",
       "      <td>GOVERNANCE</td>\n",
       "    </tr>\n",
       "    <tr>\n",
       "      <th>16</th>\n",
       "      <td>15 biggest data science company usa</td>\n",
       "      <td>GOVERNANCE</td>\n",
       "      <td>GOVERNANCE</td>\n",
       "    </tr>\n",
       "    <tr>\n",
       "      <th>17</th>\n",
       "      <td>trust workplace requires listening dialogue tr...</td>\n",
       "      <td>GOVERNANCE</td>\n",
       "      <td>SOCIAL</td>\n",
       "    </tr>\n",
       "    <tr>\n",
       "      <th>18</th>\n",
       "      <td>uber investigates breach hacker claim widespre...</td>\n",
       "      <td>SOCIAL</td>\n",
       "      <td>GOVERNANCE</td>\n",
       "    </tr>\n",
       "    <tr>\n",
       "      <th>19</th>\n",
       "      <td>vmware ranked 1 worldwide automation configura...</td>\n",
       "      <td>SOCIAL</td>\n",
       "      <td>GOVERNANCE</td>\n",
       "    </tr>\n",
       "    <tr>\n",
       "      <th>20</th>\n",
       "      <td>sec charge vmware fraud settled 8m penalty</td>\n",
       "      <td>GOVERNANCE</td>\n",
       "      <td>GOVERNANCE</td>\n",
       "    </tr>\n",
       "    <tr>\n",
       "      <th>21</th>\n",
       "      <td>vmware eas hybrid work model implementation ad...</td>\n",
       "      <td>SOCIAL</td>\n",
       "      <td>ENVIRONMENTAL</td>\n",
       "    </tr>\n",
       "    <tr>\n",
       "      <th>22</th>\n",
       "      <td>vmware earns top score disabilityins 2022 disa...</td>\n",
       "      <td>SOCIAL</td>\n",
       "      <td>SOCIAL</td>\n",
       "    </tr>\n",
       "    <tr>\n",
       "      <th>23</th>\n",
       "      <td>shell handed 90m taxpayer energy price guarantee</td>\n",
       "      <td>ENVIRONMENTAL</td>\n",
       "      <td>ENVIRONMENTAL</td>\n",
       "    </tr>\n",
       "    <tr>\n",
       "      <th>24</th>\n",
       "      <td>shell handed 90m taxpayer cut energy bill pric...</td>\n",
       "      <td>ENVIRONMENTAL</td>\n",
       "      <td>ENVIRONMENTAL</td>\n",
       "    </tr>\n",
       "    <tr>\n",
       "      <th>25</th>\n",
       "      <td>bp shell divergent tax bill highlight uk windf...</td>\n",
       "      <td>GOVERNANCE</td>\n",
       "      <td>GOVERNANCE</td>\n",
       "    </tr>\n",
       "    <tr>\n",
       "      <th>26</th>\n",
       "      <td>exxon shell ceo weigh windfall profit tax ener...</td>\n",
       "      <td>GOVERNANCE</td>\n",
       "      <td>GOVERNANCE</td>\n",
       "    </tr>\n",
       "    <tr>\n",
       "      <th>27</th>\n",
       "      <td>correction outgoing chief executive officer be...</td>\n",
       "      <td>GOVERNANCE</td>\n",
       "      <td>SOCIAL</td>\n",
       "    </tr>\n",
       "    <tr>\n",
       "      <th>28</th>\n",
       "      <td>outgoing chief executive officer ben van beurd...</td>\n",
       "      <td>GOVERNANCE</td>\n",
       "      <td>SOCIAL</td>\n",
       "    </tr>\n",
       "    <tr>\n",
       "      <th>29</th>\n",
       "      <td>shell talk government minister consider new wi...</td>\n",
       "      <td>GOVERNANCE</td>\n",
       "      <td>GOVERNANCE</td>\n",
       "    </tr>\n",
       "  </tbody>\n",
       "</table>\n",
       "</div>"
      ],
      "text/plain": [
       "                                           news title Regular Classification  \\\n",
       "0   nextgeneration dell poweredge server dramatica...             GOVERNANCE   \n",
       "1   data metadata management company alation draw ...             GOVERNANCE   \n",
       "2   canon usa inc named 2022 energy star partner y...          ENVIRONMENTAL   \n",
       "3   percentage capitol health limited asxcaj share...                 SOCIAL   \n",
       "4                       11 best future food stock buy                 SOCIAL   \n",
       "5   heil revamp electric refuse collection body im...          ENVIRONMENTAL   \n",
       "6   advansor launch new co2 climate solution high ...          ENVIRONMENTAL   \n",
       "7   lyondellbasell shakti plastic industry sign me...          ENVIRONMENTAL   \n",
       "8   lyondellbasell form joint venture build plasti...          ENVIRONMENTAL   \n",
       "9   10 best fast money stock buy according hedge fund             GOVERNANCE   \n",
       "10  earnings growth 25 5 year hasnt enough transla...             GOVERNANCE   \n",
       "11  lyondellbasell see advanced recycling option f...          ENVIRONMENTAL   \n",
       "12  lyondellbasell achieves renewable energy miles...          ENVIRONMENTAL   \n",
       "13  lyondellbasell lyb ink first two renewable ene...          ENVIRONMENTAL   \n",
       "14  lyondellbasell announces renewable energy powe...          ENVIRONMENTAL   \n",
       "15                   big money invests lyondellbasell             GOVERNANCE   \n",
       "16                15 biggest data science company usa             GOVERNANCE   \n",
       "17  trust workplace requires listening dialogue tr...             GOVERNANCE   \n",
       "18  uber investigates breach hacker claim widespre...                 SOCIAL   \n",
       "19  vmware ranked 1 worldwide automation configura...                 SOCIAL   \n",
       "20         sec charge vmware fraud settled 8m penalty             GOVERNANCE   \n",
       "21  vmware eas hybrid work model implementation ad...                 SOCIAL   \n",
       "22  vmware earns top score disabilityins 2022 disa...                 SOCIAL   \n",
       "23   shell handed 90m taxpayer energy price guarantee          ENVIRONMENTAL   \n",
       "24  shell handed 90m taxpayer cut energy bill pric...          ENVIRONMENTAL   \n",
       "25  bp shell divergent tax bill highlight uk windf...             GOVERNANCE   \n",
       "26  exxon shell ceo weigh windfall profit tax ener...             GOVERNANCE   \n",
       "27  correction outgoing chief executive officer be...             GOVERNANCE   \n",
       "28  outgoing chief executive officer ben van beurd...             GOVERNANCE   \n",
       "29  shell talk government minister consider new wi...             GOVERNANCE   \n",
       "\n",
       "   TF-IDF Classification  \n",
       "0             GOVERNANCE  \n",
       "1             GOVERNANCE  \n",
       "2          ENVIRONMENTAL  \n",
       "3                 SOCIAL  \n",
       "4                 SOCIAL  \n",
       "5                 SOCIAL  \n",
       "6          ENVIRONMENTAL  \n",
       "7                 SOCIAL  \n",
       "8                 SOCIAL  \n",
       "9             GOVERNANCE  \n",
       "10            GOVERNANCE  \n",
       "11         ENVIRONMENTAL  \n",
       "12         ENVIRONMENTAL  \n",
       "13         ENVIRONMENTAL  \n",
       "14         ENVIRONMENTAL  \n",
       "15            GOVERNANCE  \n",
       "16            GOVERNANCE  \n",
       "17                SOCIAL  \n",
       "18            GOVERNANCE  \n",
       "19            GOVERNANCE  \n",
       "20            GOVERNANCE  \n",
       "21         ENVIRONMENTAL  \n",
       "22                SOCIAL  \n",
       "23         ENVIRONMENTAL  \n",
       "24         ENVIRONMENTAL  \n",
       "25            GOVERNANCE  \n",
       "26            GOVERNANCE  \n",
       "27                SOCIAL  \n",
       "28                SOCIAL  \n",
       "29            GOVERNANCE  "
      ]
     },
     "execution_count": 64,
     "metadata": {},
     "output_type": "execute_result"
    }
   ],
   "source": [
    "df.head(30)"
   ]
  },
  {
   "cell_type": "code",
   "execution_count": 65,
   "id": "2ff3e02e",
   "metadata": {},
   "outputs": [
    {
     "data": {
      "text/plain": [
       "'trust workplace requires listening dialogue transparency'"
      ]
     },
     "execution_count": 65,
     "metadata": {},
     "output_type": "execute_result"
    }
   ],
   "source": [
    "df['news title'][17]"
   ]
  },
  {
   "cell_type": "code",
   "execution_count": null,
   "id": "e3aa9f1e",
   "metadata": {},
   "outputs": [],
   "source": []
  }
 ],
 "metadata": {
  "kernelspec": {
   "display_name": "Python 3 (ipykernel)",
   "language": "python",
   "name": "python3"
  },
  "language_info": {
   "codemirror_mode": {
    "name": "ipython",
    "version": 3
   },
   "file_extension": ".py",
   "mimetype": "text/x-python",
   "name": "python",
   "nbconvert_exporter": "python",
   "pygments_lexer": "ipython3",
   "version": "3.9.7"
  }
 },
 "nbformat": 4,
 "nbformat_minor": 5
}
